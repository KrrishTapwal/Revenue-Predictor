{
 "cells": [
  {
   "cell_type": "code",
   "execution_count": 88,
   "id": "571e6d29",
   "metadata": {},
   "outputs": [
    {
     "data": {
      "text/html": [
       "<div>\n",
       "<style scoped>\n",
       "    .dataframe tbody tr th:only-of-type {\n",
       "        vertical-align: middle;\n",
       "    }\n",
       "\n",
       "    .dataframe tbody tr th {\n",
       "        vertical-align: top;\n",
       "    }\n",
       "\n",
       "    .dataframe thead th {\n",
       "        text-align: right;\n",
       "    }\n",
       "</style>\n",
       "<table border=\"1\" class=\"dataframe\">\n",
       "  <thead>\n",
       "    <tr style=\"text-align: right;\">\n",
       "      <th></th>\n",
       "      <th>Year</th>\n",
       "      <th>Quarter</th>\n",
       "      <th>Region</th>\n",
       "      <th>Business Unit</th>\n",
       "      <th>Revenue (Million USD)</th>\n",
       "      <th>Operating Income (Million USD)</th>\n",
       "      <th>Net Income (Million USD)</th>\n",
       "      <th>Employee Count</th>\n",
       "    </tr>\n",
       "  </thead>\n",
       "  <tbody>\n",
       "    <tr>\n",
       "      <th>0</th>\n",
       "      <td>2020</td>\n",
       "      <td>Q1</td>\n",
       "      <td>North America</td>\n",
       "      <td>Digital Workplace</td>\n",
       "      <td>103.38</td>\n",
       "      <td>7.66</td>\n",
       "      <td>-4.50</td>\n",
       "      <td>1018</td>\n",
       "    </tr>\n",
       "    <tr>\n",
       "      <th>1</th>\n",
       "      <td>2020</td>\n",
       "      <td>Q1</td>\n",
       "      <td>North America</td>\n",
       "      <td>Cloud Solutions</td>\n",
       "      <td>297.37</td>\n",
       "      <td>31.95</td>\n",
       "      <td>17.90</td>\n",
       "      <td>1901</td>\n",
       "    </tr>\n",
       "    <tr>\n",
       "      <th>2</th>\n",
       "      <td>2020</td>\n",
       "      <td>Q1</td>\n",
       "      <td>North America</td>\n",
       "      <td>Enterprise Computing</td>\n",
       "      <td>287.18</td>\n",
       "      <td>48.32</td>\n",
       "      <td>41.36</td>\n",
       "      <td>338</td>\n",
       "    </tr>\n",
       "    <tr>\n",
       "      <th>3</th>\n",
       "      <td>2020</td>\n",
       "      <td>Q1</td>\n",
       "      <td>Europe</td>\n",
       "      <td>Digital Workplace</td>\n",
       "      <td>66.52</td>\n",
       "      <td>6.28</td>\n",
       "      <td>-8.82</td>\n",
       "      <td>1594</td>\n",
       "    </tr>\n",
       "    <tr>\n",
       "      <th>4</th>\n",
       "      <td>2020</td>\n",
       "      <td>Q1</td>\n",
       "      <td>Europe</td>\n",
       "      <td>Cloud Solutions</td>\n",
       "      <td>238.82</td>\n",
       "      <td>35.50</td>\n",
       "      <td>29.03</td>\n",
       "      <td>1547</td>\n",
       "    </tr>\n",
       "    <tr>\n",
       "      <th>...</th>\n",
       "      <td>...</td>\n",
       "      <td>...</td>\n",
       "      <td>...</td>\n",
       "      <td>...</td>\n",
       "      <td>...</td>\n",
       "      <td>...</td>\n",
       "      <td>...</td>\n",
       "      <td>...</td>\n",
       "    </tr>\n",
       "    <tr>\n",
       "      <th>235</th>\n",
       "      <td>2024</td>\n",
       "      <td>Q4</td>\n",
       "      <td>Asia-Pacific</td>\n",
       "      <td>NaN</td>\n",
       "      <td>218.22</td>\n",
       "      <td>31.58</td>\n",
       "      <td>25.29</td>\n",
       "      <td>678</td>\n",
       "    </tr>\n",
       "    <tr>\n",
       "      <th>236</th>\n",
       "      <td>2024</td>\n",
       "      <td>Q4</td>\n",
       "      <td>Asia-Pacific</td>\n",
       "      <td>Enterprise Computing</td>\n",
       "      <td>120.81</td>\n",
       "      <td>17.87</td>\n",
       "      <td>12.36</td>\n",
       "      <td>638</td>\n",
       "    </tr>\n",
       "    <tr>\n",
       "      <th>237</th>\n",
       "      <td>2024</td>\n",
       "      <td>Q4</td>\n",
       "      <td>India</td>\n",
       "      <td>Digital Workplace</td>\n",
       "      <td>232.69</td>\n",
       "      <td>33.23</td>\n",
       "      <td>26.82</td>\n",
       "      <td>219</td>\n",
       "    </tr>\n",
       "    <tr>\n",
       "      <th>238</th>\n",
       "      <td>2024</td>\n",
       "      <td>Q4</td>\n",
       "      <td>India</td>\n",
       "      <td>Cloud Solutions</td>\n",
       "      <td>195.45</td>\n",
       "      <td>37.71</td>\n",
       "      <td>19.66</td>\n",
       "      <td>1040</td>\n",
       "    </tr>\n",
       "    <tr>\n",
       "      <th>239</th>\n",
       "      <td>2024</td>\n",
       "      <td>Q4</td>\n",
       "      <td>India</td>\n",
       "      <td>Enterprise Computing</td>\n",
       "      <td>85.31</td>\n",
       "      <td>9.90</td>\n",
       "      <td>0.74</td>\n",
       "      <td>1793</td>\n",
       "    </tr>\n",
       "  </tbody>\n",
       "</table>\n",
       "<p>240 rows × 8 columns</p>\n",
       "</div>"
      ],
      "text/plain": [
       "     Year Quarter         Region         Business Unit  Revenue (Million USD)  \\\n",
       "0    2020      Q1  North America     Digital Workplace                 103.38   \n",
       "1    2020      Q1  North America       Cloud Solutions                 297.37   \n",
       "2    2020      Q1  North America  Enterprise Computing                 287.18   \n",
       "3    2020      Q1         Europe     Digital Workplace                  66.52   \n",
       "4    2020      Q1         Europe       Cloud Solutions                 238.82   \n",
       "..    ...     ...            ...                   ...                    ...   \n",
       "235  2024      Q4   Asia-Pacific                   NaN                 218.22   \n",
       "236  2024      Q4   Asia-Pacific  Enterprise Computing                 120.81   \n",
       "237  2024      Q4          India     Digital Workplace                 232.69   \n",
       "238  2024      Q4          India       Cloud Solutions                 195.45   \n",
       "239  2024      Q4          India  Enterprise Computing                  85.31   \n",
       "\n",
       "     Operating Income (Million USD)  Net Income (Million USD)  Employee Count  \n",
       "0                              7.66                     -4.50            1018  \n",
       "1                             31.95                     17.90            1901  \n",
       "2                             48.32                     41.36             338  \n",
       "3                              6.28                     -8.82            1594  \n",
       "4                             35.50                     29.03            1547  \n",
       "..                              ...                       ...             ...  \n",
       "235                           31.58                     25.29             678  \n",
       "236                           17.87                     12.36             638  \n",
       "237                           33.23                     26.82             219  \n",
       "238                           37.71                     19.66            1040  \n",
       "239                            9.90                      0.74            1793  \n",
       "\n",
       "[240 rows x 8 columns]"
      ]
     },
     "execution_count": 88,
     "metadata": {},
     "output_type": "execute_result"
    }
   ],
   "source": [
    "# 📚 Import Libraries\n",
    "import pandas as pd\n",
    "import numpy as np\n",
    "import matplotlib.pyplot as plt\n",
    "import seaborn as sns\n",
    "from sklearn.impute import SimpleImputer\n",
    "\n",
    "# 🗂️ Load the Dataset\n",
    "df = pd.read_csv('Unisys_Large_Dataset_Modified_v2.csv')\n",
    "df"
   ]
  },
  {
   "cell_type": "code",
   "execution_count": 89,
   "id": "d05998b1",
   "metadata": {},
   "outputs": [
    {
     "name": "stdout",
     "output_type": "stream",
     "text": [
      "\n",
      "🔎 Dataset Info:\n",
      "<class 'pandas.core.frame.DataFrame'>\n",
      "RangeIndex: 240 entries, 0 to 239\n",
      "Data columns (total 8 columns):\n",
      " #   Column                          Non-Null Count  Dtype  \n",
      "---  ------                          --------------  -----  \n",
      " 0   Year                            240 non-null    int64  \n",
      " 1   Quarter                         240 non-null    object \n",
      " 2   Region                          240 non-null    object \n",
      " 3   Business Unit                   216 non-null    object \n",
      " 4   Revenue (Million USD)           228 non-null    float64\n",
      " 5   Operating Income (Million USD)  240 non-null    float64\n",
      " 6   Net Income (Million USD)        240 non-null    float64\n",
      " 7   Employee Count                  240 non-null    int64  \n",
      "dtypes: float64(3), int64(2), object(3)\n",
      "memory usage: 15.1+ KB\n",
      "None\n"
     ]
    }
   ],
   "source": [
    "\n",
    "# 📋 Basic Overview\n",
    "print(\"\\n🔎 Dataset Info:\")\n",
    "print(df.info())\n"
   ]
  },
  {
   "cell_type": "code",
   "execution_count": 90,
   "id": "16a78c66",
   "metadata": {},
   "outputs": [
    {
     "name": "stdout",
     "output_type": "stream",
     "text": [
      "\n",
      "🧹 Missing Values:\n",
      "Year                               0\n",
      "Quarter                            0\n",
      "Region                             0\n",
      "Business Unit                     24\n",
      "Revenue (Million USD)             12\n",
      "Operating Income (Million USD)     0\n",
      "Net Income (Million USD)           0\n",
      "Employee Count                     0\n",
      "dtype: int64\n"
     ]
    }
   ],
   "source": [
    "\n",
    "print(\"\\n🧹 Missing Values:\")\n",
    "print(df.isnull().sum())\n"
   ]
  },
  {
   "cell_type": "code",
   "execution_count": 91,
   "id": "9bcfb79f",
   "metadata": {},
   "outputs": [
    {
     "name": "stdout",
     "output_type": "stream",
     "text": [
      "\n",
      "🧮 Summary Statistics:\n",
      "              Year  Revenue (Million USD)  Operating Income (Million USD)  \\\n",
      "count   240.000000             228.000000                      240.000000   \n",
      "mean   2022.000000             171.506754                       21.467917   \n",
      "std       1.417169              72.848004                       12.571864   \n",
      "min    2020.000000              51.130000                        3.370000   \n",
      "25%    2021.000000             104.672500                       11.765000   \n",
      "50%    2022.000000             171.625000                       18.080000   \n",
      "75%    2023.000000             233.940000                       29.717500   \n",
      "max    2024.000000             297.390000                       54.490000   \n",
      "\n",
      "       Net Income (Million USD)  Employee Count  \n",
      "count                240.000000      240.000000  \n",
      "mean                   9.122542     1120.154167  \n",
      "std                   13.825551      499.512546  \n",
      "min                  -16.560000      206.000000  \n",
      "25%                   -0.692500      702.000000  \n",
      "50%                    6.410000     1113.000000  \n",
      "75%                   17.365000     1566.500000  \n",
      "max                   45.940000     1995.000000  \n"
     ]
    }
   ],
   "source": [
    "\n",
    "print(\"\\n🧮 Summary Statistics:\")\n",
    "print(df.describe())\n"
   ]
  },
  {
   "cell_type": "code",
   "execution_count": 92,
   "id": "f709e78b",
   "metadata": {},
   "outputs": [
    {
     "data": {
      "image/png": "[encoded data removed]",
      "text/plain": [
       "<Figure size 1000x600 with 1 Axes>"
      ]
     },
     "metadata": {},
     "output_type": "display_data"
    }
   ],
   "source": [
    "\n",
    "# 📊 Visualizing Missing Data\n",
    "plt.figure(figsize=(10,6))\n",
    "sns.heatmap(df.isnull(), cbar=False, cmap='viridis')\n",
    "plt.title('Missing Data Heatmap')\n",
    "plt.show()\n"
   ]
  },
  {
   "cell_type": "code",
   "execution_count": 93,
   "id": "07b69d96",
   "metadata": {},
   "outputs": [],
   "source": [
    "\n",
    "# 🔵 Handling Missing Values\n",
    "# Numerical Column ➔ Median Imputation\n",
    "num_imputer = SimpleImputer(strategy='median')\n",
    "df['Revenue'] = num_imputer.fit_transform(df[['Revenue (Million USD)']])\n",
    "df['Operating Income'] = df['Operating Income (Million USD)']  # Rename\n",
    "df['Net Income'] = df['Net Income (Million USD)']  # Rename\n"
   ]
  },
  {
   "cell_type": "code",
   "execution_count": 94,
   "id": "8e850ebb",
   "metadata": {},
   "outputs": [],
   "source": [
    "\n",
    "# Categorical Column ➔ Most Frequent Imputation\n",
    "cat_imputer = SimpleImputer(strategy='most_frequent')\n",
    "df['Business Unit'] = cat_imputer.fit_transform(df[['Business Unit']]).ravel()\n"
   ]
  },
  {
   "cell_type": "code",
   "execution_count": 95,
   "id": "1e7dba69",
   "metadata": {},
   "outputs": [],
   "source": [
    "\n",
    "# Drop old columns with (Million USD) names\n",
    "df.drop(columns=['Revenue (Million USD)', 'Operating Income (Million USD)', 'Net Income (Million USD)'], inplace=True)\n"
   ]
  },
  {
   "cell_type": "code",
   "execution_count": 96,
   "id": "6b220992",
   "metadata": {},
   "outputs": [
    {
     "name": "stdout",
     "output_type": "stream",
     "text": [
      "\n",
      "✅ Missing Values After Imputation:\n",
      "Year                0\n",
      "Quarter             0\n",
      "Region              0\n",
      "Business Unit       0\n",
      "Employee Count      0\n",
      "Revenue             0\n",
      "Operating Income    0\n",
      "Net Income          0\n",
      "dtype: int64\n"
     ]
    }
   ],
   "source": [
    "\n",
    "# ✅ Check after Imputation\n",
    "print(\"\\n✅ Missing Values After Imputation:\")\n",
    "print(df.isnull().sum())\n"
   ]
  },
  {
   "cell_type": "code",
   "execution_count": 97,
   "id": "f9dd980f",
   "metadata": {},
   "outputs": [
    {
     "data": {
      "image/png": "[encoded data removed]",
      "text/plain": [
       "<Figure size 1000x500 with 1 Axes>"
      ]
     },
     "metadata": {},
     "output_type": "display_data"
    }
   ],
   "source": [
    "\n",
    "# 📈 Data Distributions\n",
    "\n",
    "# Revenue Distribution\n",
    "plt.figure(figsize=(10,5))\n",
    "sns.histplot(df['Revenue'], kde=True, color='blue')\n",
    "plt.title('Revenue Distribution')\n",
    "plt.show()\n"
   ]
  },
  {
   "cell_type": "code",
   "execution_count": 98,
   "id": "2a77ff14",
   "metadata": {},
   "outputs": [
    {
     "data": {
      "image/png": "[encoded data removed]",
      "text/plain": [
       "<Figure size 800x500 with 1 Axes>"
      ]
     },
     "metadata": {},
     "output_type": "display_data"
    }
   ],
   "source": [
    "\n",
    "# Boxplot for Revenue\n",
    "plt.figure(figsize=(8,5))\n",
    "sns.boxplot(x=df['Revenue'])\n",
    "plt.title('Revenue Boxplot')\n",
    "plt.show()\n"
   ]
  },
  {
   "cell_type": "code",
   "execution_count": 99,
   "id": "5133cb25",
   "metadata": {},
   "outputs": [
    {
     "name": "stdout",
     "output_type": "stream",
     "text": [
      "\n",
      "✅ Dataset Shape After Removing Outliers: (240, 8)\n"
     ]
    }
   ],
   "source": [
    "\n",
    "# 🧹 Remove Revenue Outliers\n",
    "Q1 = df['Revenue'].quantile(0.25)\n",
    "Q3 = df['Revenue'].quantile(0.75)\n",
    "IQR = Q3 - Q1\n",
    "lower = Q1 - 1.5 * IQR\n",
    "upper = Q3 + 1.5 * IQR\n",
    "\n",
    "df = df[(df['Revenue'] >= lower) & (df['Revenue'] <= upper)]\n",
    "\n",
    "print(\"\\n✅ Dataset Shape After Removing Outliers:\", df.shape)\n"
   ]
  },
  {
   "cell_type": "code",
   "execution_count": 100,
   "id": "f54376c9",
   "metadata": {},
   "outputs": [
    {
     "name": "stdout",
     "output_type": "stream",
     "text": [
      "\n",
      "💾 Cleaned Data Saved as: Unisys_Cleaned_Dataset.csv\n"
     ]
    }
   ],
   "source": [
    "\n",
    "# 🔖 Save the Cleaned Data\n",
    "df.to_csv('Unisys_Cleaned_Dataset.csv', index=False)\n",
    "print(\"\\n💾 Cleaned Data Saved as: Unisys_Cleaned_Dataset.csv\")\n"
   ]
  },
  {
   "cell_type": "markdown",
   "id": "420d8101",
   "metadata": {},
   "source": [
    "Model Training and Deployment"
   ]
  },
  {
   "cell_type": "code",
   "execution_count": 101,
   "id": "8c497435",
   "metadata": {},
   "outputs": [],
   "source": [
    "# 📚 Import Libraries\n",
    "import pandas as pd\n",
    "from sklearn.model_selection import train_test_split, GridSearchCV\n",
    "from sklearn.preprocessing import OneHotEncoder\n",
    "from sklearn.compose import ColumnTransformer\n",
    "from sklearn.pipeline import Pipeline\n",
    "from sklearn.ensemble import RandomForestRegressor\n",
    "from sklearn.multioutput import MultiOutputRegressor\n",
    "import joblib\n",
    "\n",
    "# 🗂️ Load Cleaned Data\n",
    "df2 = pd.read_csv('Unisys_Cleaned_Dataset.csv')\n"
   ]
  },
  {
   "cell_type": "code",
   "execution_count": 102,
   "id": "c9cf8751",
   "metadata": {},
   "outputs": [],
   "source": [
    "\n",
    "# 🎯 Features & Target\n",
    "X = df2.drop(['Revenue', 'Operating Income', 'Net Income'], axis=1)\n",
    "y = df2[['Revenue', 'Operating Income', 'Net Income']]\n"
   ]
  },
  {
   "cell_type": "code",
   "execution_count": 103,
   "id": "e02a3867",
   "metadata": {},
   "outputs": [],
   "source": [
    "\n",
    "# 🔵 Preprocessing\n",
    "categorical_features = ['Quarter', 'Region', 'Business Unit']\n",
    "numeric_features = ['Year', 'Employee Count']\n",
    "\n",
    "preprocessor = ColumnTransformer(transformers=[\n",
    "    ('cat', OneHotEncoder(handle_unknown='ignore'), categorical_features)\n",
    "], remainder='passthrough')\n"
   ]
  },
  {
   "cell_type": "code",
   "execution_count": 104,
   "id": "ddf96cf9",
   "metadata": {},
   "outputs": [],
   "source": [
    "\n",
    "# 🛠 Define Base Model\n",
    "base_model = MultiOutputRegressor(RandomForestRegressor(random_state=42))\n"
   ]
  },
  {
   "cell_type": "code",
   "execution_count": 105,
   "id": "02b5e559",
   "metadata": {},
   "outputs": [],
   "source": [
    "\n",
    "# ✂️ Split\n",
    "X_train, X_test, y_train, y_test = train_test_split(X, y, test_size=0.2, random_state=42)\n"
   ]
  },
  {
   "cell_type": "code",
   "execution_count": 106,
   "id": "3bb72669",
   "metadata": {},
   "outputs": [],
   "source": [
    "\n",
    "# 🧪 Define Pipeline\n",
    "pipeline = Pipeline(steps=[\n",
    "    ('preprocessor', preprocessor),\n",
    "    ('regressor', base_model)\n",
    "])\n"
   ]
  },
  {
   "cell_type": "code",
   "execution_count": 107,
   "id": "7d563429",
   "metadata": {},
   "outputs": [],
   "source": [
    "\n",
    "# 🔍 GridSearchCV\n",
    "param_grid = {\n",
    "    'regressor__estimator__n_estimators': [100, 200],\n",
    "    'regressor__estimator__max_depth': [10, 20, None],\n",
    "    'regressor__estimator__min_samples_split': [2, 5]\n",
    "}\n",
    "\n",
    "grid_search = GridSearchCV(\n",
    "    estimator=pipeline,\n",
    "    param_grid=param_grid,\n",
    "    cv=3,\n",
    "    scoring='r2',\n",
    "    verbose=2,\n",
    "    n_jobs=-1\n",
    ")\n"
   ]
  },
  {
   "cell_type": "code",
   "execution_count": 110,
   "id": "70079a5e",
   "metadata": {},
   "outputs": [
    {
     "name": "stdout",
     "output_type": "stream",
     "text": [
      "Fitting 3 folds for each of 12 candidates, totalling 36 fits\n",
      "\n",
      "✅ Best Parameters Found: {'regressor__estimator__max_depth': 10, 'regressor__estimator__min_samples_split': 5, 'regressor__estimator__n_estimators': 200}\n",
      "\n",
      "✅ Best Score: -0.13933249039706866\n"
     ]
    }
   ],
   "source": [
    "\n",
    "# 🔥 Train\n",
    "grid_search.fit(X_train, y_train)\n",
    "\n",
    "print(\"\\n✅ Best Parameters Found:\", grid_search.best_params_)\n",
    "print(\"\\n✅ Best Score:\", grid_search.best_score_)\n"
   ]
  },
  {
   "cell_type": "code",
   "execution_count": 111,
   "id": "ca9c7688",
   "metadata": {},
   "outputs": [
    {
     "name": "stdout",
     "output_type": "stream",
     "text": [
      "\n",
      "✅ Tuned Model saved as: unisys_multioutput_model.pkl\n"
     ]
    }
   ],
   "source": [
    "joblib.dump(grid_search.best_estimator_, 'unisys_multioutput_model.pkl')\n",
    "print(\"\\n✅ Tuned Model saved as: unisys_multioutput_model.pkl\")"
   ]
  },
  {
   "cell_type": "markdown",
   "id": "2f4e6945",
   "metadata": {},
   "source": [
    "Streamlit Code"
   ]
  },
  {
   "cell_type": "code",
   "execution_count": 112,
   "id": "3301dbff",
   "metadata": {},
   "outputs": [],
   "source": [
    "# 📚 Import Libraries\n",
    "import streamlit as st\n",
    "import pandas as pd\n",
    "import joblib\n",
    "\n",
    "# 💾 Load the saved model\n",
    "model = joblib.load('unisys_multioutput_model.pkl')\n"
   ]
  },
  {
   "cell_type": "code",
   "execution_count": null,
   "id": "e6d35ebe",
   "metadata": {},
   "outputs": [],
   "source": [
    "\n",
    "# 🎯 Title\n",
    "st.title('🔮 Unisys Business Forecasting App')\n",
    "\n",
    "st.write(\"\"\"\n",
    "This app predicts:\n",
    "- **Revenue (Million USD)**\n",
    "- **Operating Income (Million USD)**\n",
    "- **Net Income (Million USD)**\n",
    "based on user inputs.\n",
    "\"\"\")\n",
    "\n",
    "# 🧩 Input Features\n",
    "st.header(\"🛠️ Input Features\")\n",
    "\n",
    "year = st.number_input('Year', min_value=2020, max_value=2026, value=2024, step=1)\n",
    "\n",
    "quarter = st.selectbox('Quarter', ['Q1', 'Q2', 'Q3', 'Q4'])\n",
    "\n",
    "region = st.selectbox('Region', ['North America', 'Europe', 'Asia-Pacific', 'India'])\n",
    "\n",
    "business_unit = st.selectbox('Business Unit', ['Digital Workplace', 'Cloud Solutions', 'Enterprise Computing'])\n",
    "\n",
    "employee_count = st.number_input('Employee Count', min_value=100, max_value=3000, value=1000, step=1)\n",
    "\n",
    "# 📦 Collect inputs into a DataFrame\n",
    "input_data = pd.DataFrame({\n",
    "    'Year': [year],\n",
    "    'Quarter': [quarter],\n",
    "    'Region': [region],\n",
    "    'Business Unit': [business_unit],\n",
    "    'Employee Count': [employee_count]\n",
    "})\n",
    "\n",
    "# 🔮 Predict\n",
    "if st.button('Predict'):\n",
    "    prediction = model.predict(input_data)\n",
    "    revenue, operating_income, net_income = prediction[0]\n",
    "    \n",
    "    st.success('🎯 Prediction Results:')\n",
    "    st.write(f\"**Revenue (Million USD):** {revenue:.2f}\")\n",
    "    st.write(f\"**Operating Income (Million USD):** {operating_income:.2f}\")\n",
    "    st.write(f\"**Net Income (Million USD):** {net_income:.2f}\")\n"
   ]
  }
 ],
 "metadata": {
  "kernelspec": {
   "display_name": "Python (base)",
   "language": "python",
   "name": "base"
  },
  "language_info": {
   "codemirror_mode": {
    "name": "ipython",
    "version": 3
   },
   "file_extension": ".py",
   "mimetype": "text/x-python",
   "name": "python",
   "nbconvert_exporter": "python",
   "pygments_lexer": "ipython3",
   "version": "3.11.4"
  }
 },
 "nbformat": 4,
 "nbformat_minor": 5
}
